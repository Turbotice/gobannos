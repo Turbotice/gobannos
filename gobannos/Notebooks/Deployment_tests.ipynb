{
 "cells": [
  {
   "cell_type": "code",
   "execution_count": 1,
   "metadata": {},
   "outputs": [],
   "source": [
    "%load_ext autoreload\n",
    "%autoreload 2\n",
    "%matplotlib inline"
   ]
  },
  {
   "cell_type": "code",
   "execution_count": 2,
   "metadata": {},
   "outputs": [],
   "source": [
    "import numpy as np\n",
    "import pylab as plt\n",
    "import glob\n",
    "import os\n",
    "from pprint import pprint\n",
    "import scipy.integrate as inte\n",
    "import scipy.special as special\n",
    "import scipy.interpolate as interp\n",
    "import scipy.signal as sig"
   ]
  },
  {
   "cell_type": "code",
   "execution_count": 7,
   "metadata": {},
   "outputs": [],
   "source": [
    "import stephane.display.graphes as graphes\n",
    "import stephane.tools.Smath as smath\n",
    "\n",
    "import icewave.tools.datafolders as df\n",
    "import icewave.tools.rw_data as rw_data\n",
    "\n",
    "#import sympy #symoblic python\n",
    "#import mpmath as math\n",
    "#import cv2\n",
    "import glob\n",
    "import csv\n",
    "import os\n",
    "\n",
    "import icewave.phone.rw_pyphone as rw\n",
    "import icewave.field.multi_instruments as multi\n",
    "\n",
    "import phonefleet.connect as connect"
   ]
  },
  {
   "cell_type": "code",
   "execution_count": 54,
   "metadata": {},
   "outputs": [
    {
     "name": "stdout",
     "output_type": "stream",
     "text": [
      "['Starting Nmap 7.80 ( https://nmap.org ) at 2025-02-01 06:37 EST',\n",
      " 'Nmap scan report for oural (192.168.0.10)',\n",
      " 'Host is up (0.000046s latency).',\n",
      " 'Nmap scan report for 192.168.0.11',\n",
      " 'Host is up (0.00072s latency).',\n",
      " 'Nmap scan report for 192.168.0.102',\n",
      " 'Host is up (0.015s latency).',\n",
      " 'Nmap scan report for 192.168.0.103',\n",
      " 'Host is up (0.014s latency).',\n",
      " 'Nmap scan report for 192.168.0.104',\n",
      " 'Host is up (0.086s latency).',\n",
      " 'Nmap scan report for 192.168.0.105',\n",
      " 'Host is up (0.031s latency).',\n",
      " 'Nmap scan report for 192.168.0.106',\n",
      " 'Host is up (0.012s latency).',\n",
      " 'Nmap scan report for 192.168.0.107',\n",
      " 'Host is up (0.067s latency).',\n",
      " 'Nmap scan report for 192.168.0.108',\n",
      " 'Host is up (0.045s latency).',\n",
      " 'Nmap scan report for 192.168.0.109',\n",
      " 'Host is up (0.041s latency).',\n",
      " 'Nmap scan report for 192.168.0.110',\n",
      " 'Host is up (0.042s latency).',\n",
      " 'Nmap scan report for 192.168.0.111',\n",
      " 'Host is up (0.042s latency).',\n",
      " 'Nmap scan report for 192.168.0.112',\n",
      " 'Host is up (0.019s latency).',\n",
      " 'Nmap scan report for 192.168.0.114',\n",
      " 'Host is up (0.042s latency).',\n",
      " 'Nmap scan report for 192.168.0.115',\n",
      " 'Host is up (0.043s latency).',\n",
      " 'Nmap scan report for 192.168.0.116',\n",
      " 'Host is up (0.018s latency).',\n",
      " 'Nmap scan report for 192.168.0.117',\n",
      " 'Host is up (0.045s latency).',\n",
      " 'Nmap scan report for 192.168.0.118',\n",
      " 'Host is up (0.019s latency).',\n",
      " 'Nmap scan report for 192.168.0.142',\n",
      " 'Host is up (0.13s latency).',\n",
      " 'Nmap scan report for 192.168.0.159',\n",
      " 'Host is up (0.014s latency).',\n",
      " 'Nmap scan report for 192.168.0.160',\n",
      " 'Host is up (0.016s latency).',\n",
      " 'Nmap scan report for 192.168.0.161',\n",
      " 'Host is up (0.013s latency).',\n",
      " 'Nmap scan report for 192.168.0.162',\n",
      " 'Host is up (0.019s latency).',\n",
      " 'Nmap scan report for 192.168.0.163',\n",
      " 'Host is up (0.043s latency).',\n",
      " 'Nmap scan report for 192.168.0.164',\n",
      " 'Host is up (0.026s latency).',\n",
      " 'Nmap done: 256 IP addresses (25 hosts up) scanned in 3.56 seconds',\n",
      " '']\n",
      "Host is up, Nmap scan report for oural (192.168.0.10)\n",
      "10)\n",
      "format does not correspond to a phone\n",
      "Host is up, Nmap scan report for 192.168.0.11\n",
      "11\n",
      "Host is up, Nmap scan report for 192.168.0.102\n",
      "102\n",
      "Host is up, Nmap scan report for 192.168.0.103\n",
      "103\n",
      "Host is up, Nmap scan report for 192.168.0.104\n",
      "104\n",
      "Host is up, Nmap scan report for 192.168.0.105\n",
      "105\n",
      "Host is up, Nmap scan report for 192.168.0.106\n",
      "106\n",
      "Host is up, Nmap scan report for 192.168.0.107\n",
      "107\n",
      "Host is up, Nmap scan report for 192.168.0.108\n",
      "108\n",
      "Host is up, Nmap scan report for 192.168.0.109\n",
      "109\n",
      "Host is up, Nmap scan report for 192.168.0.110\n",
      "110\n",
      "Host is up, Nmap scan report for 192.168.0.111\n",
      "111\n",
      "Host is up, Nmap scan report for 192.168.0.112\n",
      "112\n",
      "Host is up, Nmap scan report for 192.168.0.114\n",
      "114\n",
      "Host is up, Nmap scan report for 192.168.0.115\n",
      "115\n",
      "Host is up, Nmap scan report for 192.168.0.116\n",
      "116\n",
      "Host is up, Nmap scan report for 192.168.0.117\n",
      "117\n",
      "Host is up, Nmap scan report for 192.168.0.118\n",
      "118\n",
      "Host is up, Nmap scan report for 192.168.0.142\n",
      "142\n",
      "Host is up, Nmap scan report for 192.168.0.159\n",
      "159\n",
      "Host is up, Nmap scan report for 192.168.0.160\n",
      "160\n",
      "Host is up, Nmap scan report for 192.168.0.161\n",
      "161\n",
      "Host is up, Nmap scan report for 192.168.0.162\n",
      "162\n",
      "Host is up, Nmap scan report for 192.168.0.163\n",
      "163\n",
      "Host is up, Nmap scan report for 192.168.0.164\n",
      "164\n"
     ]
    }
   ],
   "source": [
    "phonelist = connect.scan()"
   ]
  },
  {
   "cell_type": "code",
   "execution_count": 50,
   "metadata": {},
   "outputs": [
    {
     "name": "stdout",
     "output_type": "stream",
     "text": [
      "[-89, 2, 3, 4, 5, 6, 7, 8, 9, 10, 11, 12, 13, 14, 15, 16, 17, 18, 19, 39, 42, 59, 60, 61, 62, 63, 64]\n"
     ]
    }
   ],
   "source": [
    "print(phonelist)"
   ]
  },
  {
   "cell_type": "code",
   "execution_count": 53,
   "metadata": {},
   "outputs": [
    {
     "name": "stdout",
     "output_type": "stream",
     "text": [
      "http://192.168.0.159:8080/status\n",
      "Status :b'STOPPED'\n",
      "b'STOPPED'\n",
      "http://192.168.0.160:8080/status\n",
      "Status :b'STOPPED'\n",
      "b'STOPPED'\n",
      "http://192.168.0.161:8080/status\n",
      "Status :b'STOPPED'\n",
      "b'STOPPED'\n",
      "http://192.168.0.162:8080/status\n",
      "Status :b'STOPPED'\n",
      "b'STOPPED'\n",
      "http://192.168.0.163:8080/status\n",
      "Status :b'STOPPED'\n",
      "b'STOPPED'\n",
      "http://192.168.0.164:8080/status\n"
     ]
    },
    {
     "ename": "URLError",
     "evalue": "<urlopen error [Errno 111] Connection refused>",
     "output_type": "error",
     "traceback": [
      "\u001b[0;31m---------------------------------------------------------------------------\u001b[0m",
      "\u001b[0;31mConnectionRefusedError\u001b[0m                    Traceback (most recent call last)",
      "File \u001b[0;32m~/anaconda3/lib/python3.11/urllib/request.py:1348\u001b[0m, in \u001b[0;36mAbstractHTTPHandler.do_open\u001b[0;34m(self, http_class, req, **http_conn_args)\u001b[0m\n\u001b[1;32m   1347\u001b[0m \u001b[38;5;28;01mtry\u001b[39;00m:\n\u001b[0;32m-> 1348\u001b[0m     h\u001b[38;5;241m.\u001b[39mrequest(req\u001b[38;5;241m.\u001b[39mget_method(), req\u001b[38;5;241m.\u001b[39mselector, req\u001b[38;5;241m.\u001b[39mdata, headers,\n\u001b[1;32m   1349\u001b[0m               encode_chunked\u001b[38;5;241m=\u001b[39mreq\u001b[38;5;241m.\u001b[39mhas_header(\u001b[38;5;124m'\u001b[39m\u001b[38;5;124mTransfer-encoding\u001b[39m\u001b[38;5;124m'\u001b[39m))\n\u001b[1;32m   1350\u001b[0m \u001b[38;5;28;01mexcept\u001b[39;00m \u001b[38;5;167;01mOSError\u001b[39;00m \u001b[38;5;28;01mas\u001b[39;00m err: \u001b[38;5;66;03m# timeout error\u001b[39;00m\n",
      "File \u001b[0;32m~/anaconda3/lib/python3.11/http/client.py:1286\u001b[0m, in \u001b[0;36mHTTPConnection.request\u001b[0;34m(self, method, url, body, headers, encode_chunked)\u001b[0m\n\u001b[1;32m   1285\u001b[0m \u001b[38;5;250m\u001b[39m\u001b[38;5;124;03m\"\"\"Send a complete request to the server.\"\"\"\u001b[39;00m\n\u001b[0;32m-> 1286\u001b[0m \u001b[38;5;28mself\u001b[39m\u001b[38;5;241m.\u001b[39m_send_request(method, url, body, headers, encode_chunked)\n",
      "File \u001b[0;32m~/anaconda3/lib/python3.11/http/client.py:1332\u001b[0m, in \u001b[0;36mHTTPConnection._send_request\u001b[0;34m(self, method, url, body, headers, encode_chunked)\u001b[0m\n\u001b[1;32m   1331\u001b[0m     body \u001b[38;5;241m=\u001b[39m _encode(body, \u001b[38;5;124m'\u001b[39m\u001b[38;5;124mbody\u001b[39m\u001b[38;5;124m'\u001b[39m)\n\u001b[0;32m-> 1332\u001b[0m \u001b[38;5;28mself\u001b[39m\u001b[38;5;241m.\u001b[39mendheaders(body, encode_chunked\u001b[38;5;241m=\u001b[39mencode_chunked)\n",
      "File \u001b[0;32m~/anaconda3/lib/python3.11/http/client.py:1281\u001b[0m, in \u001b[0;36mHTTPConnection.endheaders\u001b[0;34m(self, message_body, encode_chunked)\u001b[0m\n\u001b[1;32m   1280\u001b[0m     \u001b[38;5;28;01mraise\u001b[39;00m CannotSendHeader()\n\u001b[0;32m-> 1281\u001b[0m \u001b[38;5;28mself\u001b[39m\u001b[38;5;241m.\u001b[39m_send_output(message_body, encode_chunked\u001b[38;5;241m=\u001b[39mencode_chunked)\n",
      "File \u001b[0;32m~/anaconda3/lib/python3.11/http/client.py:1041\u001b[0m, in \u001b[0;36mHTTPConnection._send_output\u001b[0;34m(self, message_body, encode_chunked)\u001b[0m\n\u001b[1;32m   1040\u001b[0m \u001b[38;5;28;01mdel\u001b[39;00m \u001b[38;5;28mself\u001b[39m\u001b[38;5;241m.\u001b[39m_buffer[:]\n\u001b[0;32m-> 1041\u001b[0m \u001b[38;5;28mself\u001b[39m\u001b[38;5;241m.\u001b[39msend(msg)\n\u001b[1;32m   1043\u001b[0m \u001b[38;5;28;01mif\u001b[39;00m message_body \u001b[38;5;129;01mis\u001b[39;00m \u001b[38;5;129;01mnot\u001b[39;00m \u001b[38;5;28;01mNone\u001b[39;00m:\n\u001b[1;32m   1044\u001b[0m \n\u001b[1;32m   1045\u001b[0m     \u001b[38;5;66;03m# create a consistent interface to message_body\u001b[39;00m\n",
      "File \u001b[0;32m~/anaconda3/lib/python3.11/http/client.py:979\u001b[0m, in \u001b[0;36mHTTPConnection.send\u001b[0;34m(self, data)\u001b[0m\n\u001b[1;32m    978\u001b[0m \u001b[38;5;28;01mif\u001b[39;00m \u001b[38;5;28mself\u001b[39m\u001b[38;5;241m.\u001b[39mauto_open:\n\u001b[0;32m--> 979\u001b[0m     \u001b[38;5;28mself\u001b[39m\u001b[38;5;241m.\u001b[39mconnect()\n\u001b[1;32m    980\u001b[0m \u001b[38;5;28;01melse\u001b[39;00m:\n",
      "File \u001b[0;32m~/anaconda3/lib/python3.11/http/client.py:945\u001b[0m, in \u001b[0;36mHTTPConnection.connect\u001b[0;34m(self)\u001b[0m\n\u001b[1;32m    944\u001b[0m sys\u001b[38;5;241m.\u001b[39maudit(\u001b[38;5;124m\"\u001b[39m\u001b[38;5;124mhttp.client.connect\u001b[39m\u001b[38;5;124m\"\u001b[39m, \u001b[38;5;28mself\u001b[39m, \u001b[38;5;28mself\u001b[39m\u001b[38;5;241m.\u001b[39mhost, \u001b[38;5;28mself\u001b[39m\u001b[38;5;241m.\u001b[39mport)\n\u001b[0;32m--> 945\u001b[0m \u001b[38;5;28mself\u001b[39m\u001b[38;5;241m.\u001b[39msock \u001b[38;5;241m=\u001b[39m \u001b[38;5;28mself\u001b[39m\u001b[38;5;241m.\u001b[39m_create_connection(\n\u001b[1;32m    946\u001b[0m     (\u001b[38;5;28mself\u001b[39m\u001b[38;5;241m.\u001b[39mhost,\u001b[38;5;28mself\u001b[39m\u001b[38;5;241m.\u001b[39mport), \u001b[38;5;28mself\u001b[39m\u001b[38;5;241m.\u001b[39mtimeout, \u001b[38;5;28mself\u001b[39m\u001b[38;5;241m.\u001b[39msource_address)\n\u001b[1;32m    947\u001b[0m \u001b[38;5;66;03m# Might fail in OSs that don't implement TCP_NODELAY\u001b[39;00m\n",
      "File \u001b[0;32m~/anaconda3/lib/python3.11/socket.py:851\u001b[0m, in \u001b[0;36mcreate_connection\u001b[0;34m(address, timeout, source_address, all_errors)\u001b[0m\n\u001b[1;32m    850\u001b[0m \u001b[38;5;28;01mif\u001b[39;00m \u001b[38;5;129;01mnot\u001b[39;00m all_errors:\n\u001b[0;32m--> 851\u001b[0m     \u001b[38;5;28;01mraise\u001b[39;00m exceptions[\u001b[38;5;241m0\u001b[39m]\n\u001b[1;32m    852\u001b[0m \u001b[38;5;28;01mraise\u001b[39;00m ExceptionGroup(\u001b[38;5;124m\"\u001b[39m\u001b[38;5;124mcreate_connection failed\u001b[39m\u001b[38;5;124m\"\u001b[39m, exceptions)\n",
      "File \u001b[0;32m~/anaconda3/lib/python3.11/socket.py:836\u001b[0m, in \u001b[0;36mcreate_connection\u001b[0;34m(address, timeout, source_address, all_errors)\u001b[0m\n\u001b[1;32m    835\u001b[0m     sock\u001b[38;5;241m.\u001b[39mbind(source_address)\n\u001b[0;32m--> 836\u001b[0m sock\u001b[38;5;241m.\u001b[39mconnect(sa)\n\u001b[1;32m    837\u001b[0m \u001b[38;5;66;03m# Break explicitly a reference cycle\u001b[39;00m\n",
      "\u001b[0;31mConnectionRefusedError\u001b[0m: [Errno 111] Connection refused",
      "\nDuring handling of the above exception, another exception occurred:\n",
      "\u001b[0;31mURLError\u001b[0m                                  Traceback (most recent call last)",
      "Cell \u001b[0;32mIn[53], line 6\u001b[0m\n\u001b[1;32m      4\u001b[0m \u001b[38;5;28;01mfor\u001b[39;00m phone \u001b[38;5;129;01min\u001b[39;00m phonelist:\n\u001b[1;32m      5\u001b[0m     ip \u001b[38;5;241m=\u001b[39m connect\u001b[38;5;241m.\u001b[39mget_adress(phone)\n\u001b[0;32m----> 6\u001b[0m     status \u001b[38;5;241m=\u001b[39m gob\u001b[38;5;241m.\u001b[39mget_status(ip)\n\u001b[1;32m      7\u001b[0m     \u001b[38;5;28mprint\u001b[39m(status)\n",
      "File \u001b[0;32m~/Documents/Bicwin2024/git/icewave/icewave/phonefleet/phonefleet/run_gobannos.py:54\u001b[0m, in \u001b[0;36mget_status\u001b[0;34m(ip)\u001b[0m\n\u001b[1;32m     52\u001b[0m address \u001b[38;5;241m=\u001b[39m \u001b[38;5;124mf\u001b[39m\u001b[38;5;124m\"\u001b[39m\u001b[38;5;124mhttp://\u001b[39m\u001b[38;5;132;01m{\u001b[39;00mip\u001b[38;5;132;01m}\u001b[39;00m\u001b[38;5;124m:\u001b[39m\u001b[38;5;132;01m{\u001b[39;00mport\u001b[38;5;132;01m}\u001b[39;00m\u001b[38;5;124m/status\u001b[39m\u001b[38;5;124m\"\u001b[39m\n\u001b[1;32m     53\u001b[0m \u001b[38;5;28mprint\u001b[39m(address)\n\u001b[0;32m---> 54\u001b[0m a \u001b[38;5;241m=\u001b[39m urllib\u001b[38;5;241m.\u001b[39mrequest\u001b[38;5;241m.\u001b[39murlopen(address)\u001b[38;5;241m.\u001b[39mread()\n\u001b[1;32m     55\u001b[0m \u001b[38;5;28mprint\u001b[39m(\u001b[38;5;124m'\u001b[39m\u001b[38;5;124mStatus :\u001b[39m\u001b[38;5;124m'\u001b[39m\u001b[38;5;241m+\u001b[39m\u001b[38;5;28mstr\u001b[39m(a))\n\u001b[1;32m     56\u001b[0m \u001b[38;5;28;01mreturn\u001b[39;00m a\n",
      "File \u001b[0;32m~/anaconda3/lib/python3.11/urllib/request.py:216\u001b[0m, in \u001b[0;36murlopen\u001b[0;34m(url, data, timeout, cafile, capath, cadefault, context)\u001b[0m\n\u001b[1;32m    214\u001b[0m \u001b[38;5;28;01melse\u001b[39;00m:\n\u001b[1;32m    215\u001b[0m     opener \u001b[38;5;241m=\u001b[39m _opener\n\u001b[0;32m--> 216\u001b[0m \u001b[38;5;28;01mreturn\u001b[39;00m opener\u001b[38;5;241m.\u001b[39mopen(url, data, timeout)\n",
      "File \u001b[0;32m~/anaconda3/lib/python3.11/urllib/request.py:519\u001b[0m, in \u001b[0;36mOpenerDirector.open\u001b[0;34m(self, fullurl, data, timeout)\u001b[0m\n\u001b[1;32m    516\u001b[0m     req \u001b[38;5;241m=\u001b[39m meth(req)\n\u001b[1;32m    518\u001b[0m sys\u001b[38;5;241m.\u001b[39maudit(\u001b[38;5;124m'\u001b[39m\u001b[38;5;124murllib.Request\u001b[39m\u001b[38;5;124m'\u001b[39m, req\u001b[38;5;241m.\u001b[39mfull_url, req\u001b[38;5;241m.\u001b[39mdata, req\u001b[38;5;241m.\u001b[39mheaders, req\u001b[38;5;241m.\u001b[39mget_method())\n\u001b[0;32m--> 519\u001b[0m response \u001b[38;5;241m=\u001b[39m \u001b[38;5;28mself\u001b[39m\u001b[38;5;241m.\u001b[39m_open(req, data)\n\u001b[1;32m    521\u001b[0m \u001b[38;5;66;03m# post-process response\u001b[39;00m\n\u001b[1;32m    522\u001b[0m meth_name \u001b[38;5;241m=\u001b[39m protocol\u001b[38;5;241m+\u001b[39m\u001b[38;5;124m\"\u001b[39m\u001b[38;5;124m_response\u001b[39m\u001b[38;5;124m\"\u001b[39m\n",
      "File \u001b[0;32m~/anaconda3/lib/python3.11/urllib/request.py:536\u001b[0m, in \u001b[0;36mOpenerDirector._open\u001b[0;34m(self, req, data)\u001b[0m\n\u001b[1;32m    533\u001b[0m     \u001b[38;5;28;01mreturn\u001b[39;00m result\n\u001b[1;32m    535\u001b[0m protocol \u001b[38;5;241m=\u001b[39m req\u001b[38;5;241m.\u001b[39mtype\n\u001b[0;32m--> 536\u001b[0m result \u001b[38;5;241m=\u001b[39m \u001b[38;5;28mself\u001b[39m\u001b[38;5;241m.\u001b[39m_call_chain(\u001b[38;5;28mself\u001b[39m\u001b[38;5;241m.\u001b[39mhandle_open, protocol, protocol \u001b[38;5;241m+\u001b[39m\n\u001b[1;32m    537\u001b[0m                           \u001b[38;5;124m'\u001b[39m\u001b[38;5;124m_open\u001b[39m\u001b[38;5;124m'\u001b[39m, req)\n\u001b[1;32m    538\u001b[0m \u001b[38;5;28;01mif\u001b[39;00m result:\n\u001b[1;32m    539\u001b[0m     \u001b[38;5;28;01mreturn\u001b[39;00m result\n",
      "File \u001b[0;32m~/anaconda3/lib/python3.11/urllib/request.py:496\u001b[0m, in \u001b[0;36mOpenerDirector._call_chain\u001b[0;34m(self, chain, kind, meth_name, *args)\u001b[0m\n\u001b[1;32m    494\u001b[0m \u001b[38;5;28;01mfor\u001b[39;00m handler \u001b[38;5;129;01min\u001b[39;00m handlers:\n\u001b[1;32m    495\u001b[0m     func \u001b[38;5;241m=\u001b[39m \u001b[38;5;28mgetattr\u001b[39m(handler, meth_name)\n\u001b[0;32m--> 496\u001b[0m     result \u001b[38;5;241m=\u001b[39m func(\u001b[38;5;241m*\u001b[39margs)\n\u001b[1;32m    497\u001b[0m     \u001b[38;5;28;01mif\u001b[39;00m result \u001b[38;5;129;01mis\u001b[39;00m \u001b[38;5;129;01mnot\u001b[39;00m \u001b[38;5;28;01mNone\u001b[39;00m:\n\u001b[1;32m    498\u001b[0m         \u001b[38;5;28;01mreturn\u001b[39;00m result\n",
      "File \u001b[0;32m~/anaconda3/lib/python3.11/urllib/request.py:1377\u001b[0m, in \u001b[0;36mHTTPHandler.http_open\u001b[0;34m(self, req)\u001b[0m\n\u001b[1;32m   1376\u001b[0m \u001b[38;5;28;01mdef\u001b[39;00m \u001b[38;5;21mhttp_open\u001b[39m(\u001b[38;5;28mself\u001b[39m, req):\n\u001b[0;32m-> 1377\u001b[0m     \u001b[38;5;28;01mreturn\u001b[39;00m \u001b[38;5;28mself\u001b[39m\u001b[38;5;241m.\u001b[39mdo_open(http\u001b[38;5;241m.\u001b[39mclient\u001b[38;5;241m.\u001b[39mHTTPConnection, req)\n",
      "File \u001b[0;32m~/anaconda3/lib/python3.11/urllib/request.py:1351\u001b[0m, in \u001b[0;36mAbstractHTTPHandler.do_open\u001b[0;34m(self, http_class, req, **http_conn_args)\u001b[0m\n\u001b[1;32m   1348\u001b[0m         h\u001b[38;5;241m.\u001b[39mrequest(req\u001b[38;5;241m.\u001b[39mget_method(), req\u001b[38;5;241m.\u001b[39mselector, req\u001b[38;5;241m.\u001b[39mdata, headers,\n\u001b[1;32m   1349\u001b[0m                   encode_chunked\u001b[38;5;241m=\u001b[39mreq\u001b[38;5;241m.\u001b[39mhas_header(\u001b[38;5;124m'\u001b[39m\u001b[38;5;124mTransfer-encoding\u001b[39m\u001b[38;5;124m'\u001b[39m))\n\u001b[1;32m   1350\u001b[0m     \u001b[38;5;28;01mexcept\u001b[39;00m \u001b[38;5;167;01mOSError\u001b[39;00m \u001b[38;5;28;01mas\u001b[39;00m err: \u001b[38;5;66;03m# timeout error\u001b[39;00m\n\u001b[0;32m-> 1351\u001b[0m         \u001b[38;5;28;01mraise\u001b[39;00m URLError(err)\n\u001b[1;32m   1352\u001b[0m     r \u001b[38;5;241m=\u001b[39m h\u001b[38;5;241m.\u001b[39mgetresponse()\n\u001b[1;32m   1353\u001b[0m \u001b[38;5;28;01mexcept\u001b[39;00m:\n",
      "\u001b[0;31mURLError\u001b[0m: <urlopen error [Errno 111] Connection refused>"
     ]
    }
   ],
   "source": [
    "phonelist = range(59,65)\n",
    "\n",
    "import phonefleet.run_gobannos as gob\n",
    "for phone in phonelist:\n",
    "    ip = connect.get_adress(phone)\n",
    "    status = gob.get_status(ip)\n",
    "    print(status)"
   ]
  },
  {
   "cell_type": "code",
   "execution_count": 47,
   "metadata": {},
   "outputs": [
    {
     "name": "stdout",
     "output_type": "stream",
     "text": [
      "\n",
      "58 192.168.0.158\n",
      "PING 192.168.0.158 (192.168.0.158) 56(84) bytes of data.\n",
      "From 192.168.0.10 icmp_seq=1 Destination Host Unreachable\n",
      "From 192.168.0.10 icmp_seq=2 Destination Host Unreachable\n",
      "From 192.168.0.10 icmp_seq=3 Destination Host Unreachable\n"
     ]
    },
    {
     "name": "stderr",
     "output_type": "stream",
     "text": [
      "ping: sendmsg: No route to host\n"
     ]
    },
    {
     "name": "stdout",
     "output_type": "stream",
     "text": [
      "\n",
      "--- 192.168.0.158 ping statistics ---\n",
      "5 packets transmitted, 0 received, +3 errors, 100% packet loss, time 4107ms\n",
      "pipe 3\n"
     ]
    },
    {
     "ename": "KeyboardInterrupt",
     "evalue": "",
     "output_type": "error",
     "traceback": [
      "\u001b[0;31m---------------------------------------------------------------------------\u001b[0m",
      "\u001b[0;31mKeyboardInterrupt\u001b[0m                         Traceback (most recent call last)",
      "Cell \u001b[0;32mIn[47], line 9\u001b[0m\n\u001b[1;32m      7\u001b[0m \u001b[38;5;28mprint\u001b[39m(\u001b[38;5;124m'\u001b[39m\u001b[38;5;124m'\u001b[39m)\n\u001b[1;32m      8\u001b[0m \u001b[38;5;28mprint\u001b[39m(phone,ip)\n\u001b[0;32m----> 9\u001b[0m a \u001b[38;5;241m=\u001b[39m subprocess\u001b[38;5;241m.\u001b[39mrun([\u001b[38;5;124m'\u001b[39m\u001b[38;5;124mping\u001b[39m\u001b[38;5;124m'\u001b[39m,\u001b[38;5;124m'\u001b[39m\u001b[38;5;124m-c\u001b[39m\u001b[38;5;124m'\u001b[39m,\u001b[38;5;124m'\u001b[39m\u001b[38;5;124m5\u001b[39m\u001b[38;5;124m'\u001b[39m,ip],text\u001b[38;5;241m=\u001b[39m\u001b[38;5;28;01mTrue\u001b[39;00m,stdout\u001b[38;5;241m=\u001b[39m\u001b[38;5;28;01mTrue\u001b[39;00m)\n\u001b[1;32m     10\u001b[0m \u001b[38;5;28mprint\u001b[39m(a)\n",
      "File \u001b[0;32m~/anaconda3/lib/python3.11/subprocess.py:550\u001b[0m, in \u001b[0;36mrun\u001b[0;34m(input, capture_output, timeout, check, *popenargs, **kwargs)\u001b[0m\n\u001b[1;32m    548\u001b[0m \u001b[38;5;28;01mwith\u001b[39;00m Popen(\u001b[38;5;241m*\u001b[39mpopenargs, \u001b[38;5;241m*\u001b[39m\u001b[38;5;241m*\u001b[39mkwargs) \u001b[38;5;28;01mas\u001b[39;00m process:\n\u001b[1;32m    549\u001b[0m     \u001b[38;5;28;01mtry\u001b[39;00m:\n\u001b[0;32m--> 550\u001b[0m         stdout, stderr \u001b[38;5;241m=\u001b[39m process\u001b[38;5;241m.\u001b[39mcommunicate(\u001b[38;5;28minput\u001b[39m, timeout\u001b[38;5;241m=\u001b[39mtimeout)\n\u001b[1;32m    551\u001b[0m     \u001b[38;5;28;01mexcept\u001b[39;00m TimeoutExpired \u001b[38;5;28;01mas\u001b[39;00m exc:\n\u001b[1;32m    552\u001b[0m         process\u001b[38;5;241m.\u001b[39mkill()\n",
      "File \u001b[0;32m~/anaconda3/lib/python3.11/subprocess.py:1201\u001b[0m, in \u001b[0;36mPopen.communicate\u001b[0;34m(self, input, timeout)\u001b[0m\n\u001b[1;32m   1199\u001b[0m         stderr \u001b[38;5;241m=\u001b[39m \u001b[38;5;28mself\u001b[39m\u001b[38;5;241m.\u001b[39mstderr\u001b[38;5;241m.\u001b[39mread()\n\u001b[1;32m   1200\u001b[0m         \u001b[38;5;28mself\u001b[39m\u001b[38;5;241m.\u001b[39mstderr\u001b[38;5;241m.\u001b[39mclose()\n\u001b[0;32m-> 1201\u001b[0m     \u001b[38;5;28mself\u001b[39m\u001b[38;5;241m.\u001b[39mwait()\n\u001b[1;32m   1202\u001b[0m \u001b[38;5;28;01melse\u001b[39;00m:\n\u001b[1;32m   1203\u001b[0m     \u001b[38;5;28;01mif\u001b[39;00m timeout \u001b[38;5;129;01mis\u001b[39;00m \u001b[38;5;129;01mnot\u001b[39;00m \u001b[38;5;28;01mNone\u001b[39;00m:\n",
      "File \u001b[0;32m~/anaconda3/lib/python3.11/subprocess.py:1264\u001b[0m, in \u001b[0;36mPopen.wait\u001b[0;34m(self, timeout)\u001b[0m\n\u001b[1;32m   1262\u001b[0m     endtime \u001b[38;5;241m=\u001b[39m _time() \u001b[38;5;241m+\u001b[39m timeout\n\u001b[1;32m   1263\u001b[0m \u001b[38;5;28;01mtry\u001b[39;00m:\n\u001b[0;32m-> 1264\u001b[0m     \u001b[38;5;28;01mreturn\u001b[39;00m \u001b[38;5;28mself\u001b[39m\u001b[38;5;241m.\u001b[39m_wait(timeout\u001b[38;5;241m=\u001b[39mtimeout)\n\u001b[1;32m   1265\u001b[0m \u001b[38;5;28;01mexcept\u001b[39;00m \u001b[38;5;167;01mKeyboardInterrupt\u001b[39;00m:\n\u001b[1;32m   1266\u001b[0m     \u001b[38;5;66;03m# https://bugs.python.org/issue25942\u001b[39;00m\n\u001b[1;32m   1267\u001b[0m     \u001b[38;5;66;03m# The first keyboard interrupt waits briefly for the child to\u001b[39;00m\n\u001b[1;32m   1268\u001b[0m     \u001b[38;5;66;03m# exit under the common assumption that it also received the ^C\u001b[39;00m\n\u001b[1;32m   1269\u001b[0m     \u001b[38;5;66;03m# generated SIGINT and will exit rapidly.\u001b[39;00m\n\u001b[1;32m   1270\u001b[0m     \u001b[38;5;28;01mif\u001b[39;00m timeout \u001b[38;5;129;01mis\u001b[39;00m \u001b[38;5;129;01mnot\u001b[39;00m \u001b[38;5;28;01mNone\u001b[39;00m:\n",
      "File \u001b[0;32m~/anaconda3/lib/python3.11/subprocess.py:2046\u001b[0m, in \u001b[0;36mPopen._wait\u001b[0;34m(self, timeout)\u001b[0m\n\u001b[1;32m   2044\u001b[0m \u001b[38;5;28;01mif\u001b[39;00m \u001b[38;5;28mself\u001b[39m\u001b[38;5;241m.\u001b[39mreturncode \u001b[38;5;129;01mis\u001b[39;00m \u001b[38;5;129;01mnot\u001b[39;00m \u001b[38;5;28;01mNone\u001b[39;00m:\n\u001b[1;32m   2045\u001b[0m     \u001b[38;5;28;01mbreak\u001b[39;00m  \u001b[38;5;66;03m# Another thread waited.\u001b[39;00m\n\u001b[0;32m-> 2046\u001b[0m (pid, sts) \u001b[38;5;241m=\u001b[39m \u001b[38;5;28mself\u001b[39m\u001b[38;5;241m.\u001b[39m_try_wait(\u001b[38;5;241m0\u001b[39m)\n\u001b[1;32m   2047\u001b[0m \u001b[38;5;66;03m# Check the pid and loop as waitpid has been known to\u001b[39;00m\n\u001b[1;32m   2048\u001b[0m \u001b[38;5;66;03m# return 0 even without WNOHANG in odd situations.\u001b[39;00m\n\u001b[1;32m   2049\u001b[0m \u001b[38;5;66;03m# http://bugs.python.org/issue14396.\u001b[39;00m\n\u001b[1;32m   2050\u001b[0m \u001b[38;5;28;01mif\u001b[39;00m pid \u001b[38;5;241m==\u001b[39m \u001b[38;5;28mself\u001b[39m\u001b[38;5;241m.\u001b[39mpid:\n",
      "File \u001b[0;32m~/anaconda3/lib/python3.11/subprocess.py:2004\u001b[0m, in \u001b[0;36mPopen._try_wait\u001b[0;34m(self, wait_flags)\u001b[0m\n\u001b[1;32m   2002\u001b[0m \u001b[38;5;250m\u001b[39m\u001b[38;5;124;03m\"\"\"All callers to this function MUST hold self._waitpid_lock.\"\"\"\u001b[39;00m\n\u001b[1;32m   2003\u001b[0m \u001b[38;5;28;01mtry\u001b[39;00m:\n\u001b[0;32m-> 2004\u001b[0m     (pid, sts) \u001b[38;5;241m=\u001b[39m os\u001b[38;5;241m.\u001b[39mwaitpid(\u001b[38;5;28mself\u001b[39m\u001b[38;5;241m.\u001b[39mpid, wait_flags)\n\u001b[1;32m   2005\u001b[0m \u001b[38;5;28;01mexcept\u001b[39;00m \u001b[38;5;167;01mChildProcessError\u001b[39;00m:\n\u001b[1;32m   2006\u001b[0m     \u001b[38;5;66;03m# This happens if SIGCLD is set to be ignored or waiting\u001b[39;00m\n\u001b[1;32m   2007\u001b[0m     \u001b[38;5;66;03m# for child processes has otherwise been disabled for our\u001b[39;00m\n\u001b[1;32m   2008\u001b[0m     \u001b[38;5;66;03m# process.  This child is dead, we can't get the status.\u001b[39;00m\n\u001b[1;32m   2009\u001b[0m     pid \u001b[38;5;241m=\u001b[39m \u001b[38;5;28mself\u001b[39m\u001b[38;5;241m.\u001b[39mpid\n",
      "\u001b[0;31mKeyboardInterrupt\u001b[0m: "
     ]
    }
   ],
   "source": [
    "import urllib.request\n",
    "import subprocess\n",
    "\n",
    "phonelist = range(58,65)\n",
    "for phone in phonelist:\n",
    "    ip = connect.get_adress(phone)\n",
    "    print('')\n",
    "    print(phone,ip)\n",
    "    a = subprocess.run(['ping','-c','5',ip],text=True,stdout=True)\n",
    "    print(a)\n"
   ]
  },
  {
   "cell_type": "code",
   "execution_count": null,
   "metadata": {},
   "outputs": [],
   "source": []
  },
  {
   "cell_type": "code",
   "execution_count": 24,
   "metadata": {},
   "outputs": [
    {
     "name": "stdout",
     "output_type": "stream",
     "text": [
      "http://192.168.0.100:8080/status\n",
      "Status :b'RECORDING'\n",
      "b'RECORDING'\n",
      "http://192.168.0.101:8080/status\n",
      "Status :b'RECORDING'\n",
      "b'RECORDING'\n",
      "http://192.168.0.102:8080/status\n",
      "Status :b'RECORDING'\n",
      "b'RECORDING'\n",
      "http://192.168.0.103:8080/status\n",
      "Status :b'RECORDING'\n",
      "b'RECORDING'\n",
      "http://192.168.0.104:8080/status\n",
      "Status :b'RECORDING'\n",
      "b'RECORDING'\n",
      "http://192.168.0.105:8080/status\n",
      "Status :b'RECORDING'\n",
      "b'RECORDING'\n",
      "http://192.168.0.106:8080/status\n",
      "Status :b'RECORDING'\n",
      "b'RECORDING'\n",
      "http://192.168.0.107:8080/status\n",
      "Status :b'RECORDING'\n",
      "b'RECORDING'\n",
      "http://192.168.0.108:8080/status\n",
      "Status :b'RECORDING'\n",
      "b'RECORDING'\n",
      "http://192.168.0.109:8080/status\n",
      "Status :b'RECORDING'\n",
      "b'RECORDING'\n"
     ]
    }
   ],
   "source": [
    "phonelist = range(10)\n",
    "\n",
    "import phonefleet.run_gobannos as gob\n",
    "for phone in phonelist:\n",
    "    ip = connect.get_adress(phone)\n",
    "    status = gob.get_status(ip)\n",
    "    print(status)\n",
    "    if not status==b'STOPPED':\n",
    "        gob.individual_stop(ip)"
   ]
  },
  {
   "cell_type": "code",
   "execution_count": 22,
   "metadata": {},
   "outputs": [
    {
     "name": "stdout",
     "output_type": "stream",
     "text": [
      "http://192.168.0.100:8080/status\n",
      "Status :b'STOPPED'\n",
      "b'STOPPED'\n",
      "http://192.168.0.101:8080/status\n",
      "Status :b'STOPPED'\n",
      "b'STOPPED'\n",
      "http://192.168.0.102:8080/status\n",
      "Status :b'STOPPED'\n",
      "b'STOPPED'\n",
      "http://192.168.0.103:8080/status\n",
      "Status :b'STOPPED'\n",
      "b'STOPPED'\n",
      "http://192.168.0.104:8080/status\n",
      "Status :b'STOPPED'\n",
      "b'STOPPED'\n",
      "http://192.168.0.105:8080/status\n",
      "Status :b'STOPPED'\n",
      "b'STOPPED'\n",
      "http://192.168.0.106:8080/status\n",
      "Status :b'STOPPED'\n",
      "b'STOPPED'\n",
      "http://192.168.0.107:8080/status\n",
      "Status :b'STOPPED'\n",
      "b'STOPPED'\n",
      "http://192.168.0.108:8080/status\n",
      "Status :b'STOPPED'\n",
      "b'STOPPED'\n",
      "http://192.168.0.109:8080/status\n",
      "Status :b'STOPPED'\n",
      "b'STOPPED'\n"
     ]
    }
   ],
   "source": [
    "phonelist = range(10)\n",
    "\n",
    "import phonefleet.run_gobannos as gob\n",
    "for phone in phonelist:\n",
    "    ip = connect.get_adress(phone)\n",
    "    status = gob.get_status(ip)\n",
    "    print(status)\n",
    "    gob.individual_start(ip)"
   ]
  },
  {
   "cell_type": "code",
   "execution_count": 25,
   "metadata": {},
   "outputs": [
    {
     "name": "stdout",
     "output_type": "stream",
     "text": [
      "http://192.168.0.100:8080/status\n",
      "Status :b'STOPPED'\n",
      "b'STOPPED'\n",
      "http://192.168.0.101:8080/status\n",
      "Status :b'STOPPED'\n",
      "b'STOPPED'\n",
      "http://192.168.0.102:8080/status\n",
      "Status :b'STOPPED'\n",
      "b'STOPPED'\n",
      "http://192.168.0.103:8080/status\n",
      "Status :b'STOPPED'\n",
      "b'STOPPED'\n",
      "http://192.168.0.104:8080/status\n",
      "Status :b'STOPPED'\n",
      "b'STOPPED'\n",
      "http://192.168.0.105:8080/status\n",
      "Status :b'STOPPED'\n",
      "b'STOPPED'\n",
      "http://192.168.0.106:8080/status\n",
      "Status :b'STOPPED'\n",
      "b'STOPPED'\n",
      "http://192.168.0.107:8080/status\n",
      "Status :b'STOPPED'\n",
      "b'STOPPED'\n",
      "http://192.168.0.108:8080/status\n",
      "Status :b'STOPPED'\n",
      "b'STOPPED'\n",
      "http://192.168.0.109:8080/status\n",
      "Status :b'STOPPED'\n",
      "b'STOPPED'\n"
     ]
    }
   ],
   "source": [
    "phonelist = range(10)\n",
    "\n",
    "import phonefleet.run_gobannos as gob\n",
    "for phone in phonelist:\n",
    "    ip = connect.get_adress(phone)\n",
    "    status = gob.get_status(ip)\n",
    "    print(status)"
   ]
  },
  {
   "cell_type": "code",
   "execution_count": null,
   "metadata": {},
   "outputs": [],
   "source": []
  }
 ],
 "metadata": {
  "kernelspec": {
   "display_name": "Python 3 (ipykernel)",
   "language": "python",
   "name": "python3"
  },
  "language_info": {
   "codemirror_mode": {
    "name": "ipython",
    "version": 3
   },
   "file_extension": ".py",
   "mimetype": "text/x-python",
   "name": "python",
   "nbconvert_exporter": "python",
   "pygments_lexer": "ipython3",
   "version": "3.11.9"
  }
 },
 "nbformat": 4,
 "nbformat_minor": 5
}
